{
  "nbformat": 4,
  "nbformat_minor": 0,
  "metadata": {
    "colab": {
      "name": "exercise_datetime.ipynb",
      "provenance": [],
      "authorship_tag": "ABX9TyPpfMYcFlpIheBbCyrH3n3F",
      "include_colab_link": true
    },
    "kernelspec": {
      "name": "python3",
      "display_name": "Python 3"
    },
    "language_info": {
      "name": "python"
    }
  },
  "cells": [
    {
      "cell_type": "markdown",
      "metadata": {
        "id": "view-in-github",
        "colab_type": "text"
      },
      "source": [
        "<a href=\"https://colab.research.google.com/github/bpunar/PANDAS-EXERCISES/blob/main/exercise_datetime.ipynb\" target=\"_parent\"><img src=\"https://colab.research.google.com/assets/colab-badge.svg\" alt=\"Open In Colab\"/></a>"
      ]
    },
    {
      "cell_type": "markdown",
      "source": [
        ""
      ],
      "metadata": {
        "id": "PN0_QmijFg_n"
      }
    },
    {
      "cell_type": "markdown",
      "source": [
        "29.01.2022 \n",
        "Datetime"
      ],
      "metadata": {
        "id": "-LpZcqGbFioo"
      }
    },
    {
      "cell_type": "code",
      "source": [
        "import pandas as pd\n",
        "import numpy as np\n",
        "from datetime import datetime"
      ],
      "metadata": {
        "id": "yNVxKAoPFvQI"
      },
      "execution_count": 3,
      "outputs": []
    },
    {
      "cell_type": "code",
      "source": [
        "current_date = datetime.now()\n",
        "print(current_date)"
      ],
      "metadata": {
        "colab": {
          "base_uri": "https://localhost:8080/"
        },
        "id": "ErKDTwXmFwxt",
        "outputId": "fb610726-a218-4f8d-c0bb-5f5b0a39276d"
      },
      "execution_count": 6,
      "outputs": [
        {
          "output_type": "stream",
          "name": "stdout",
          "text": [
            "2022-01-28 23:49:43.954317\n"
          ]
        }
      ]
    },
    {
      "cell_type": "code",
      "source": [
        "print(current_date.date())"
      ],
      "metadata": {
        "colab": {
          "base_uri": "https://localhost:8080/"
        },
        "id": "7XBfjljqGFO6",
        "outputId": "1886098a-c219-42ae-939d-c1571f4ca708"
      },
      "execution_count": 7,
      "outputs": [
        {
          "output_type": "stream",
          "name": "stdout",
          "text": [
            "2022-01-28\n"
          ]
        }
      ]
    },
    {
      "cell_type": "code",
      "source": [
        "print(current_date.day)"
      ],
      "metadata": {
        "colab": {
          "base_uri": "https://localhost:8080/"
        },
        "id": "7DgGVmbqGcu5",
        "outputId": "c745c19e-237d-446e-9b77-b9de304dcf92"
      },
      "execution_count": 12,
      "outputs": [
        {
          "output_type": "stream",
          "name": "stdout",
          "text": [
            "28\n"
          ]
        }
      ]
    },
    {
      "cell_type": "code",
      "source": [
        "print(current_date.month)"
      ],
      "metadata": {
        "colab": {
          "base_uri": "https://localhost:8080/"
        },
        "id": "nF4lnXrFHUUv",
        "outputId": "899062a0-c1eb-4bd0-ffe9-407db3c6e44c"
      },
      "execution_count": 13,
      "outputs": [
        {
          "output_type": "stream",
          "name": "stdout",
          "text": [
            "1\n"
          ]
        }
      ]
    },
    {
      "cell_type": "code",
      "source": [
        "print(current_date.year)"
      ],
      "metadata": {
        "colab": {
          "base_uri": "https://localhost:8080/"
        },
        "id": "AFU-NE2AHZ3o",
        "outputId": "f94901b0-6331-4982-c6f6-0bb0f47e221b"
      },
      "execution_count": 14,
      "outputs": [
        {
          "output_type": "stream",
          "name": "stdout",
          "text": [
            "2022\n"
          ]
        }
      ]
    },
    {
      "cell_type": "code",
      "source": [
        "print(current_date.strftime(\"%d\"))"
      ],
      "metadata": {
        "colab": {
          "base_uri": "https://localhost:8080/"
        },
        "id": "46TpZfiAHchy",
        "outputId": "15079919-9298-4d8f-9d48-e820a78c7f3d"
      },
      "execution_count": 15,
      "outputs": [
        {
          "output_type": "stream",
          "name": "stdout",
          "text": [
            "28\n"
          ]
        }
      ]
    },
    {
      "cell_type": "code",
      "source": [
        "print(current_date.strftime(\"%B\"))"
      ],
      "metadata": {
        "colab": {
          "base_uri": "https://localhost:8080/"
        },
        "id": "KeBQgY73HwmP",
        "outputId": "06b47891-f4f3-4731-c700-1979dd22d99e"
      },
      "execution_count": 16,
      "outputs": [
        {
          "output_type": "stream",
          "name": "stdout",
          "text": [
            "January\n"
          ]
        }
      ]
    },
    {
      "cell_type": "code",
      "source": [
        "print(current_date.strftime(\"%W\"))"
      ],
      "metadata": {
        "colab": {
          "base_uri": "https://localhost:8080/"
        },
        "id": "g351oXjBHzey",
        "outputId": "34b11a97-ec2b-4425-ea7e-650806aafe61"
      },
      "execution_count": 17,
      "outputs": [
        {
          "output_type": "stream",
          "name": "stdout",
          "text": [
            "04\n"
          ]
        }
      ]
    },
    {
      "cell_type": "code",
      "source": [
        "str1 ='2022-12-31'\n",
        "date1 = datetime.strptime(str1, \"%Y-%m-%d\")\n",
        "print(date1)"
      ],
      "metadata": {
        "colab": {
          "base_uri": "https://localhost:8080/"
        },
        "id": "lwuXl55XH5q2",
        "outputId": "55e81d8e-5c67-4d0f-c68e-68eac8df8f5e"
      },
      "execution_count": 18,
      "outputs": [
        {
          "output_type": "stream",
          "name": "stdout",
          "text": [
            "2022-12-31 00:00:00\n"
          ]
        }
      ]
    },
    {
      "cell_type": "code",
      "source": [
        "print(date1.year)"
      ],
      "metadata": {
        "colab": {
          "base_uri": "https://localhost:8080/"
        },
        "id": "MjAdNgTzIYgt",
        "outputId": "3e077a06-3b52-47df-f1a2-ad15637344d4"
      },
      "execution_count": 19,
      "outputs": [
        {
          "output_type": "stream",
          "name": "stdout",
          "text": [
            "2022\n"
          ]
        }
      ]
    },
    {
      "cell_type": "code",
      "source": [
        "print(date1.month)"
      ],
      "metadata": {
        "colab": {
          "base_uri": "https://localhost:8080/"
        },
        "id": "x99Wi7G0Ibsh",
        "outputId": "8c40ee55-1e6d-4eb5-f09d-a5da3154604b"
      },
      "execution_count": 20,
      "outputs": [
        {
          "output_type": "stream",
          "name": "stdout",
          "text": [
            "12\n"
          ]
        }
      ]
    },
    {
      "cell_type": "code",
      "source": [
        "print(date1.day)"
      ],
      "metadata": {
        "colab": {
          "base_uri": "https://localhost:8080/"
        },
        "id": "sUnA-KIUIf0d",
        "outputId": "5d74feac-4c38-46f6-c927-bc04f58e0776"
      },
      "execution_count": 21,
      "outputs": [
        {
          "output_type": "stream",
          "name": "stdout",
          "text": [
            "31\n"
          ]
        }
      ]
    },
    {
      "cell_type": "code",
      "source": [
        "from datetime import timedelta\n",
        "import datetime"
      ],
      "metadata": {
        "id": "lV-nQ-VLIj2E"
      },
      "execution_count": 22,
      "outputs": []
    },
    {
      "cell_type": "code",
      "source": [
        "current_date = datetime.datetime.now()\n",
        "date_after_10_days = current_date + timedelta(days=10)\n",
        "print(\"Today Date: \", current_date)\n",
        "print(\"Date after 10 days:\", date_after_10_days)\n",
        "\n",
        "print(\"Today Date: \", current_date.date())\n",
        "print(\"Date after 10 days:\", date_after_10_days.date())"
      ],
      "metadata": {
        "colab": {
          "base_uri": "https://localhost:8080/"
        },
        "id": "vc2IXGfYItFP",
        "outputId": "27ea4d8b-4418-4ad5-f60d-59ac3281b515"
      },
      "execution_count": 27,
      "outputs": [
        {
          "output_type": "stream",
          "name": "stdout",
          "text": [
            "Today Date:  2022-01-29 00:05:51.039628\n",
            "Date after 10 days: 2022-02-08 00:05:51.039628\n",
            "Today Date:  2022-01-29\n",
            "Date after 10 days: 2022-02-08\n"
          ]
        }
      ]
    }
  ]
}